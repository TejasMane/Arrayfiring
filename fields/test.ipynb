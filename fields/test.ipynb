{
 "cells": [
  {
   "cell_type": "code",
   "execution_count": 1,
   "metadata": {
    "collapsed": true
   },
   "outputs": [],
   "source": [
    "import numpy as np"
   ]
  },
  {
   "cell_type": "code",
   "execution_count": 2,
   "metadata": {},
   "outputs": [],
   "source": [
    "import arrayfire as af"
   ]
  },
  {
   "cell_type": "code",
   "execution_count": 3,
   "metadata": {},
   "outputs": [],
   "source": [
    "bins = np.zeros(5,dtype=np.int32)\n",
    "pos = [1,0,2,0,3]\n",
    "wts = [1,2,1,1,4]\n",
    "a,b = np.histogram(pos,bins=5,range=(0,5),weights=wts)"
   ]
  },
  {
   "cell_type": "code",
   "execution_count": 42,
   "metadata": {},
   "outputs": [],
   "source": [
    "af_bins = af.data.constant(0, 5, dtype=af.Dtype.f64)\n",
    "af_pos = af.Array([1,0,2,0,3])\n",
    "af_wts = af.Array([1,2,1,1,4])\n",
    "af_a = af.histogram(af_pos, 6, -1, 5)"
   ]
  },
  {
   "cell_type": "code",
   "execution_count": 5,
   "metadata": {},
   "outputs": [
    {
     "data": {
      "text/plain": [
       "arrayfire.Array()\nType: float\n[5 1 1 1]\n    0.0000 \n    0.0000 \n    0.0000 \n    0.0000 \n    0.0000 \n"
      ]
     },
     "execution_count": 5,
     "metadata": {},
     "output_type": "execute_result"
    }
   ],
   "source": [
    "a = af.data.constant(0,5)\n",
    "a"
   ]
  },
  {
   "cell_type": "code",
   "execution_count": 50,
   "metadata": {
    "collapsed": true
   },
   "outputs": [],
   "source": [
    "x = af.Array([-0.5, 0, 0.5, 1.0, 1.5])\n",
    "af_pos = af.Array([1,0,2,0,3])\n",
    "af_wts = af.Array([1,2,1,1,4])\n",
    "af_a = np.histogram(af_pos, bins = x.elements(), range = (0, x.elements()), weights=af_wts)"
   ]
  },
  {
   "cell_type": "code",
   "execution_count": 51,
   "metadata": {},
   "outputs": [
    {
     "data": {
      "text/plain": [
       "(array([ 3.,  1.,  1.,  4.,  0.], dtype=float32),\n array([ 0.,  1.,  2.,  3.,  4.,  5.]))"
      ]
     },
     "execution_count": 51,
     "metadata": {},
     "output_type": "execute_result"
    }
   ],
   "source": [
    "af_a"
   ]
  },
  {
   "cell_type": "code",
   "execution_count": null,
   "metadata": {},
   "outputs": [],
   "source": [
    ""
   ]
  }
 ],
 "metadata": {
  "kernelspec": {
   "display_name": "Python 2",
   "language": "python",
   "name": "python2"
  },
  "language_info": {
   "codemirror_mode": {
    "name": "ipython",
    "version": 2.0
   },
   "file_extension": ".py",
   "mimetype": "text/x-python",
   "name": "python",
   "nbconvert_exporter": "python",
   "pygments_lexer": "ipython2",
   "version": "2.7.6"
  }
 },
 "nbformat": 4,
 "nbformat_minor": 0
}